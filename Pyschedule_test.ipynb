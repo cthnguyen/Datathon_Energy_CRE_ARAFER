{
 "cells": [
  {
   "cell_type": "code",
   "execution_count": 71,
   "metadata": {},
   "outputs": [],
   "source": [
    "# Import packages\n",
    "from pyschedule import Scenario, solvers, plotters, alt\n",
    "import pandas as pd\n",
    "import numpy as np\n",
    "%matplotlib inline\n",
    "import time"
   ]
  },
  {
   "cell_type": "code",
   "execution_count": 2,
   "metadata": {},
   "outputs": [
    {
     "data": {
      "text/html": [
       "<div>\n",
       "<style scoped>\n",
       "    .dataframe tbody tr th:only-of-type {\n",
       "        vertical-align: middle;\n",
       "    }\n",
       "\n",
       "    .dataframe tbody tr th {\n",
       "        vertical-align: top;\n",
       "    }\n",
       "\n",
       "    .dataframe thead th {\n",
       "        text-align: right;\n",
       "    }\n",
       "</style>\n",
       "<table border=\"1\" class=\"dataframe\">\n",
       "  <thead>\n",
       "    <tr style=\"text-align: right;\">\n",
       "      <th></th>\n",
       "      <th>heure</th>\n",
       "      <th>2019-03-10 00:00:00</th>\n",
       "      <th>2019-03-11 00:00:00</th>\n",
       "      <th>2019-03-12 00:00:00</th>\n",
       "      <th>2019-03-13 00:00:00</th>\n",
       "      <th>2019-03-14 00:00:00</th>\n",
       "      <th>2019-03-15 00:00:00</th>\n",
       "      <th>2019-03-16 00:00:00</th>\n",
       "    </tr>\n",
       "  </thead>\n",
       "  <tbody>\n",
       "    <tr>\n",
       "      <th>0</th>\n",
       "      <td>0</td>\n",
       "      <td>17.67</td>\n",
       "      <td>23.64</td>\n",
       "      <td>40.98</td>\n",
       "      <td>26.85</td>\n",
       "      <td>28.14</td>\n",
       "      <td>26.71</td>\n",
       "      <td>24.16</td>\n",
       "    </tr>\n",
       "    <tr>\n",
       "      <th>1</th>\n",
       "      <td>1</td>\n",
       "      <td>18.49</td>\n",
       "      <td>22.71</td>\n",
       "      <td>38.97</td>\n",
       "      <td>22.28</td>\n",
       "      <td>26.86</td>\n",
       "      <td>18.89</td>\n",
       "      <td>11.44</td>\n",
       "    </tr>\n",
       "    <tr>\n",
       "      <th>2</th>\n",
       "      <td>2</td>\n",
       "      <td>17.95</td>\n",
       "      <td>24.97</td>\n",
       "      <td>36.91</td>\n",
       "      <td>25.33</td>\n",
       "      <td>25.88</td>\n",
       "      <td>16.56</td>\n",
       "      <td>8.34</td>\n",
       "    </tr>\n",
       "    <tr>\n",
       "      <th>3</th>\n",
       "      <td>3</td>\n",
       "      <td>9.91</td>\n",
       "      <td>19.06</td>\n",
       "      <td>35.00</td>\n",
       "      <td>11.78</td>\n",
       "      <td>24.32</td>\n",
       "      <td>12.12</td>\n",
       "      <td>6.49</td>\n",
       "    </tr>\n",
       "    <tr>\n",
       "      <th>4</th>\n",
       "      <td>4</td>\n",
       "      <td>6.54</td>\n",
       "      <td>20.55</td>\n",
       "      <td>32.92</td>\n",
       "      <td>14.61</td>\n",
       "      <td>23.72</td>\n",
       "      <td>16.68</td>\n",
       "      <td>8.40</td>\n",
       "    </tr>\n",
       "  </tbody>\n",
       "</table>\n",
       "</div>"
      ],
      "text/plain": [
       "   heure  2019-03-10 00:00:00  2019-03-11 00:00:00  2019-03-12 00:00:00  \\\n",
       "0      0                17.67                23.64                40.98   \n",
       "1      1                18.49                22.71                38.97   \n",
       "2      2                17.95                24.97                36.91   \n",
       "3      3                 9.91                19.06                35.00   \n",
       "4      4                 6.54                20.55                32.92   \n",
       "\n",
       "   2019-03-13 00:00:00  2019-03-14 00:00:00  2019-03-15 00:00:00  \\\n",
       "0                26.85                28.14                26.71   \n",
       "1                22.28                26.86                18.89   \n",
       "2                25.33                25.88                16.56   \n",
       "3                11.78                24.32                12.12   \n",
       "4                14.61                23.72                16.68   \n",
       "\n",
       "   2019-03-16 00:00:00  \n",
       "0                24.16  \n",
       "1                11.44  \n",
       "2                 8.34  \n",
       "3                 6.49  \n",
       "4                 8.40  "
      ]
     },
     "execution_count": 2,
     "metadata": {},
     "output_type": "execute_result"
    }
   ],
   "source": [
    "price_spot = pd.read_excel(\"/home/celine/Downloads/prix_spot.xlsx\")\n",
    "price_spot.head()"
   ]
  },
  {
   "cell_type": "markdown",
   "metadata": {},
   "source": [
    "* Scenario:\n",
    "    * ```schedule_cost``` : provide some positive or negative reward if a task is scheduled\n",
    "\n",
    "* Resource: \n",
    "    * ```cost_per_period``` :Using a resource for some periods might imply additional resource cost\n",
    "    \n",
    "* Tasks: \n",
    "    * \n",
    "    ``` # create 5 tasks of the same type with length 1 and delay cost 1\n",
    "    T = S.Tasks('T',num=5,length=1,delay_cost=1) ```"
   ]
  },
  {
   "cell_type": "code",
   "execution_count": 94,
   "metadata": {},
   "outputs": [],
   "source": [
    "# Generate random data for individuals behavior\n",
    "\n",
    "individuals = list((range(10)))\n",
    "forecast_period = 1 # number of days forecasted with the given tasks\n",
    "hours = list(range(forecast_period*24))\n",
    "\n",
    "list_tasks= ['washing_machine', 'dish_washer']\n",
    "dico_tasks= {'washing_machine':2, 'dish_washer':3}\n",
    "\n",
    "# Time slot for off-peak hours\n",
    "beginning_slot = 9\n",
    "end_slot = 18\n",
    "\n",
    "# Numbers of tasks asked for the individual i for the next 24h\n",
    "tasks = np.random.randint(2, size= len(individuals))\n",
    "requirement_tasks = {}\n",
    "for i in individuals: \n",
    "    requirement_tasks[i] = tasks[i]"
   ]
  },
  {
   "cell_type": "code",
   "execution_count": 114,
   "metadata": {},
   "outputs": [
    {
     "data": {
      "text/plain": [
       "{0: 0, 1: 1, 2: 0, 3: 0, 4: 1, 5: 0, 6: 1, 7: 1, 8: 0, 9: 1}"
      ]
     },
     "execution_count": 114,
     "metadata": {},
     "output_type": "execute_result"
    }
   ],
   "source": [
    "requirement_tasks"
   ]
  },
  {
   "cell_type": "code",
   "execution_count": 113,
   "metadata": {},
   "outputs": [
    {
     "ename": "Exception",
     "evalue": "ERROR: name S_0_ 0 contains one of the following characters: -+[] ->/",
     "output_type": "error",
     "traceback": [
      "\u001b[0;31m---------------------------------------------------------------------------\u001b[0m",
      "\u001b[0;31mException\u001b[0m                                 Traceback (most recent call last)",
      "\u001b[0;32m<ipython-input-113-d0357be03a55>\u001b[0m in \u001b[0;36m<module>\u001b[0;34m\u001b[0m\n\u001b[1;32m      7\u001b[0m \u001b[0;31m# Could add the name of the task with list_tasks\u001b[0m\u001b[0;34m\u001b[0m\u001b[0;34m\u001b[0m\u001b[0m\n\u001b[1;32m      8\u001b[0m tasks = {(h, task_) : S.Tasks('S_%s_%s'%(str(h), str(task_))) \n\u001b[0;32m----> 9\u001b[0;31m                                          \u001b[0;32mfor\u001b[0m \u001b[0mh\u001b[0m \u001b[0;32min\u001b[0m \u001b[0mhours\u001b[0m\u001b[0;34m\u001b[0m\u001b[0m\n\u001b[0m\u001b[1;32m     10\u001b[0m                                          \u001b[0;32mfor\u001b[0m \u001b[0mtask_\u001b[0m \u001b[0;32min\u001b[0m \u001b[0mlist\u001b[0m\u001b[0;34m(\u001b[0m\u001b[0mstr\u001b[0m\u001b[0;34m(\u001b[0m\u001b[0mrange\u001b[0m\u001b[0;34m(\u001b[0m\u001b[0mrequirement_tasks\u001b[0m\u001b[0;34m[\u001b[0m\u001b[0mh\u001b[0m\u001b[0;34m]\u001b[0m\u001b[0;34m)\u001b[0m\u001b[0;34m)\u001b[0m\u001b[0;34m)\u001b[0m\u001b[0;34m\u001b[0m\u001b[0m\n\u001b[1;32m     11\u001b[0m                                          }\n",
      "\u001b[0;32m<ipython-input-113-d0357be03a55>\u001b[0m in \u001b[0;36m<dictcomp>\u001b[0;34m(.0)\u001b[0m\n\u001b[1;32m      8\u001b[0m tasks = {(h, task_) : S.Tasks('S_%s_%s'%(str(h), str(task_))) \n\u001b[1;32m      9\u001b[0m                                          \u001b[0;32mfor\u001b[0m \u001b[0mh\u001b[0m \u001b[0;32min\u001b[0m \u001b[0mhours\u001b[0m\u001b[0;34m\u001b[0m\u001b[0m\n\u001b[0;32m---> 10\u001b[0;31m                                          \u001b[0;32mfor\u001b[0m \u001b[0mtask_\u001b[0m \u001b[0;32min\u001b[0m \u001b[0mlist\u001b[0m\u001b[0;34m(\u001b[0m\u001b[0mstr\u001b[0m\u001b[0;34m(\u001b[0m\u001b[0mrange\u001b[0m\u001b[0;34m(\u001b[0m\u001b[0mrequirement_tasks\u001b[0m\u001b[0;34m[\u001b[0m\u001b[0mh\u001b[0m\u001b[0;34m]\u001b[0m\u001b[0;34m)\u001b[0m\u001b[0;34m)\u001b[0m\u001b[0;34m)\u001b[0m\u001b[0;34m\u001b[0m\u001b[0m\n\u001b[0m\u001b[1;32m     11\u001b[0m                                          }\n",
      "\u001b[0;32m~/anaconda3/lib/python3.6/site-packages/pyschedule/pyschedule.py\u001b[0m in \u001b[0;36mTasks\u001b[0;34m(self, name, num, is_group, **kwargs)\u001b[0m\n\u001b[1;32m    300\u001b[0m \u001b[0;34m\u001b[0m\u001b[0m\n\u001b[1;32m    301\u001b[0m         \u001b[0;32mdef\u001b[0m \u001b[0mTasks\u001b[0m\u001b[0;34m(\u001b[0m\u001b[0mself\u001b[0m\u001b[0;34m,\u001b[0m\u001b[0mname\u001b[0m\u001b[0;34m,\u001b[0m\u001b[0mnum\u001b[0m\u001b[0;34m=\u001b[0m\u001b[0;36m1\u001b[0m\u001b[0;34m,\u001b[0m\u001b[0mis_group\u001b[0m\u001b[0;34m=\u001b[0m\u001b[0;32mFalse\u001b[0m\u001b[0;34m,\u001b[0m\u001b[0;34m**\u001b[0m\u001b[0mkwargs\u001b[0m\u001b[0;34m)\u001b[0m \u001b[0;34m:\u001b[0m\u001b[0;34m\u001b[0m\u001b[0m\n\u001b[0;32m--> 302\u001b[0;31m                 \u001b[0mtasks\u001b[0m \u001b[0;34m=\u001b[0m \u001b[0mTasks\u001b[0m\u001b[0;34m(\u001b[0m\u001b[0mname\u001b[0m\u001b[0;34m=\u001b[0m\u001b[0mname\u001b[0m\u001b[0;34m,\u001b[0m\u001b[0mnum\u001b[0m\u001b[0;34m=\u001b[0m\u001b[0mnum\u001b[0m\u001b[0;34m,\u001b[0m\u001b[0mis_group\u001b[0m\u001b[0;34m=\u001b[0m\u001b[0mis_group\u001b[0m\u001b[0;34m,\u001b[0m\u001b[0;34m**\u001b[0m\u001b[0mkwargs\u001b[0m\u001b[0;34m)\u001b[0m\u001b[0;34m\u001b[0m\u001b[0m\n\u001b[0m\u001b[1;32m    303\u001b[0m                 \u001b[0;32mfor\u001b[0m \u001b[0mT\u001b[0m \u001b[0;32min\u001b[0m \u001b[0mtasks\u001b[0m\u001b[0;34m:\u001b[0m\u001b[0;34m\u001b[0m\u001b[0m\n\u001b[1;32m    304\u001b[0m                         \u001b[0;31m#if T.periods is None:\u001b[0m\u001b[0;34m\u001b[0m\u001b[0;34m\u001b[0m\u001b[0m\n",
      "\u001b[0;32m~/anaconda3/lib/python3.6/site-packages/pyschedule/pyschedule.py\u001b[0m in \u001b[0;36m__init__\u001b[0;34m(self, name, num, is_group, **kwargs)\u001b[0m\n\u001b[1;32m    791\u001b[0m                 \u001b[0;32mfor\u001b[0m \u001b[0mi\u001b[0m \u001b[0;32min\u001b[0m \u001b[0mrange\u001b[0m\u001b[0;34m(\u001b[0m\u001b[0mnum\u001b[0m\u001b[0;34m)\u001b[0m\u001b[0;34m:\u001b[0m\u001b[0;34m\u001b[0m\u001b[0m\n\u001b[1;32m    792\u001b[0m                         \u001b[0mname_\u001b[0m \u001b[0;34m=\u001b[0m \u001b[0;34m'%s%i'\u001b[0m\u001b[0;34m%\u001b[0m\u001b[0;34m(\u001b[0m\u001b[0mname\u001b[0m\u001b[0;34m,\u001b[0m\u001b[0mi\u001b[0m\u001b[0;34m)\u001b[0m\u001b[0;34m\u001b[0m\u001b[0m\n\u001b[0;32m--> 793\u001b[0;31m                         \u001b[0mself\u001b[0m\u001b[0;34m.\u001b[0m\u001b[0mappend\u001b[0m\u001b[0;34m(\u001b[0m\u001b[0mTask\u001b[0m\u001b[0;34m(\u001b[0m\u001b[0mname\u001b[0m\u001b[0;34m=\u001b[0m\u001b[0mname_\u001b[0m\u001b[0;34m,\u001b[0m\u001b[0mgroup\u001b[0m\u001b[0;34m=\u001b[0m\u001b[0mgroup\u001b[0m\u001b[0;34m,\u001b[0m\u001b[0;34m**\u001b[0m\u001b[0mkwargs\u001b[0m\u001b[0;34m)\u001b[0m\u001b[0;34m)\u001b[0m\u001b[0;34m\u001b[0m\u001b[0m\n\u001b[0m\u001b[1;32m    794\u001b[0m \u001b[0;34m\u001b[0m\u001b[0m\n\u001b[1;32m    795\u001b[0m \u001b[0;34m\u001b[0m\u001b[0m\n",
      "\u001b[0;32m~/anaconda3/lib/python3.6/site-packages/pyschedule/pyschedule.py\u001b[0m in \u001b[0;36m__init__\u001b[0;34m(self, name, length, group, periods, schedule_cost, delay_cost, **kwargs)\u001b[0m\n\u001b[1;32m    642\u001b[0m \t\"\"\"\n\u001b[1;32m    643\u001b[0m         \u001b[0;32mdef\u001b[0m \u001b[0m__init__\u001b[0m\u001b[0;34m(\u001b[0m\u001b[0mself\u001b[0m\u001b[0;34m,\u001b[0m\u001b[0mname\u001b[0m\u001b[0;34m,\u001b[0m\u001b[0mlength\u001b[0m\u001b[0;34m=\u001b[0m\u001b[0;36m1\u001b[0m\u001b[0;34m,\u001b[0m\u001b[0mgroup\u001b[0m\u001b[0;34m=\u001b[0m\u001b[0;32mNone\u001b[0m\u001b[0;34m,\u001b[0m\u001b[0mperiods\u001b[0m\u001b[0;34m=\u001b[0m\u001b[0;32mNone\u001b[0m\u001b[0;34m,\u001b[0m\u001b[0mschedule_cost\u001b[0m\u001b[0;34m=\u001b[0m\u001b[0;32mNone\u001b[0m\u001b[0;34m,\u001b[0m\u001b[0mdelay_cost\u001b[0m\u001b[0;34m=\u001b[0m\u001b[0;32mNone\u001b[0m\u001b[0;34m,\u001b[0m\u001b[0;34m**\u001b[0m\u001b[0mkwargs\u001b[0m\u001b[0;34m)\u001b[0m \u001b[0;34m:\u001b[0m\u001b[0;34m\u001b[0m\u001b[0m\n\u001b[0;32m--> 644\u001b[0;31m                 \u001b[0m_SchedElement\u001b[0m\u001b[0;34m.\u001b[0m\u001b[0m__init__\u001b[0m\u001b[0;34m(\u001b[0m\u001b[0mself\u001b[0m\u001b[0;34m,\u001b[0m\u001b[0mname\u001b[0m\u001b[0;34m)\u001b[0m\u001b[0;34m\u001b[0m\u001b[0m\n\u001b[0m\u001b[1;32m    645\u001b[0m                 \u001b[0;32mif\u001b[0m \u001b[0;32mnot\u001b[0m \u001b[0m_isnumeric\u001b[0m\u001b[0;34m(\u001b[0m\u001b[0mlength\u001b[0m\u001b[0;34m)\u001b[0m\u001b[0;34m:\u001b[0m\u001b[0;34m\u001b[0m\u001b[0m\n\u001b[1;32m    646\u001b[0m                         \u001b[0;32mraise\u001b[0m \u001b[0mException\u001b[0m\u001b[0;34m(\u001b[0m\u001b[0;34m'ERROR: task length must be an integer'\u001b[0m\u001b[0;34m)\u001b[0m\u001b[0;34m\u001b[0m\u001b[0m\n",
      "\u001b[0;32m~/anaconda3/lib/python3.6/site-packages/pyschedule/pyschedule.py\u001b[0m in \u001b[0;36m__init__\u001b[0;34m(self, name)\u001b[0m\n\u001b[1;32m     73\u001b[0m                 \u001b[0mtrans\u001b[0m \u001b[0;34m=\u001b[0m \u001b[0m_maketrans\u001b[0m\u001b[0;34m(\u001b[0m\u001b[0;34m\"-+[] ->/\"\u001b[0m\u001b[0;34m,\u001b[0m\u001b[0;34m\"________\"\u001b[0m\u001b[0;34m)\u001b[0m\u001b[0;34m\u001b[0m\u001b[0m\n\u001b[1;32m     74\u001b[0m                 \u001b[0;32mif\u001b[0m \u001b[0mname\u001b[0m\u001b[0;34m.\u001b[0m\u001b[0mtranslate\u001b[0m\u001b[0;34m(\u001b[0m\u001b[0mtrans\u001b[0m\u001b[0;34m)\u001b[0m \u001b[0;34m!=\u001b[0m \u001b[0mname\u001b[0m\u001b[0;34m:\u001b[0m\u001b[0;34m\u001b[0m\u001b[0m\n\u001b[0;32m---> 75\u001b[0;31m                         \u001b[0;32mraise\u001b[0m \u001b[0mException\u001b[0m\u001b[0;34m(\u001b[0m\u001b[0;34m'ERROR: name %s contains one of the following characters: -+[] ->/'\u001b[0m\u001b[0;34m%\u001b[0m\u001b[0mname\u001b[0m\u001b[0;34m)\u001b[0m\u001b[0;34m\u001b[0m\u001b[0m\n\u001b[0m\u001b[1;32m     76\u001b[0m                 \u001b[0mself\u001b[0m\u001b[0;34m.\u001b[0m\u001b[0mname\u001b[0m \u001b[0;34m=\u001b[0m \u001b[0mname\u001b[0m\u001b[0;34m\u001b[0m\u001b[0m\n\u001b[1;32m     77\u001b[0m \u001b[0;34m\u001b[0m\u001b[0m\n",
      "\u001b[0;31mException\u001b[0m: ERROR: name S_0_ 0 contains one of the following characters: -+[] ->/"
     ]
    }
   ],
   "source": [
    "S = Scenario('individual', horizon= len(hours))\n",
    "\n",
    "# Create individuals as resources indexed by name\n",
    "resources = {name: S.Resource(str(name)) for name in individuals}\n",
    "\n",
    "# Create tasks : number of tasks for each day for each individual\n",
    "# Could add the name of the task with list_tasks\n",
    "tasks = {}\n",
    "for h in hours: \n",
    "    if h in requirement_tasks."
   ]
  },
  {
   "cell_type": "code",
   "execution_count": 92,
   "metadata": {},
   "outputs": [
    {
     "name": "stdout",
     "output_type": "stream",
     "text": [
      "<class 'str'>\n",
      "<class 'str'>\n",
      "<class 'str'>\n",
      "<class 'str'>\n",
      "<class 'str'>\n",
      "<class 'str'>\n",
      "<class 'str'>\n",
      "<class 'str'>\n",
      "<class 'str'>\n",
      "<class 'str'>\n"
     ]
    }
   ],
   "source": [
    "for h in requirement_tasks: \n",
    "    print(type(h))"
   ]
  },
  {
   "cell_type": "code",
   "execution_count": 89,
   "metadata": {},
   "outputs": [
    {
     "name": "stdout",
     "output_type": "stream",
     "text": [
      "nothing\n",
      "nothing\n",
      "nothing\n",
      "nothing\n",
      "nothing\n",
      "nothing\n",
      "nothing\n",
      "nothing\n",
      "nothing\n",
      "nothing\n"
     ]
    }
   ],
   "source": [
    "for h in requirement_tasks:\n",
    "    if h in hours:\n",
    "        print(\"h\")\n",
    "    else: \n",
    "        print(\"nothing\")"
   ]
  },
  {
   "cell_type": "code",
   "execution_count": 63,
   "metadata": {},
   "outputs": [],
   "source": [
    "# Distribute each tasks in the days \n",
    "for name_task, day in tasks:\n",
    "#     for i in [beginning_slot, end_slot, ]\n",
    "    S += tasks[name_task, day] >= day \n",
    "#     S += tasks[day, t] >= beginning_slot + day, tasks[day, t] <= end_slot + day\n",
    "    # Group the tasks (washing_machine, dish_washer) as there are no order to do it\n",
    "    # !! Not true for washing_machine and dryer\n",
    "    tasks[name_task, day].group = day"
   ]
  },
  {
   "cell_type": "code",
   "execution_count": 64,
   "metadata": {},
   "outputs": [],
   "source": [
    "# No restrictions on resources : any task can be done with any resource\n",
    "for name_task, day in tasks: \n",
    "    tasks[name_task, day] += alt(S.resources())"
   ]
  },
  {
   "cell_type": "code",
   "execution_count": null,
   "metadata": {},
   "outputs": [],
   "source": [
    "time_limit = 10 # time limit for each run\n",
    "repeats = 5 # repeated random runs because CBC might get stuck"
   ]
  },
  {
   "cell_type": "code",
   "execution_count": null,
   "metadata": {},
   "outputs": [],
   "source": [
    "# Iteratively add shift requests until no solution exists\n",
    "for name, hour in requested_tasks:\n",
    "    S += resources[name][hour] >= 1\n",
    "    for i in range(repeats):\n",
    "        random_seed = random.randint(0,10000)\n",
    "        start_time = time.time()\n",
    "        status = solvers.mip.solve(S,kind='CBC',time_limit=time_limit,\n",
    "                                   random_seed=random_seed,msg=0)\n",
    "        # Break when solution found\n",
    "        if status:\n",
    "            break\n",
    "    print(name,hour,'compute time:', time.time()-start_time)\n",
    "    # Break if all computed solution runs fail\n",
    "    if not status:\n",
    "        S -= resources[name][hour] >= 1\n",
    "        print('cant fit last shift request')\n",
    "\n",
    "# Plot the last computed solution\n",
    "%matplotlib inline\n",
    "plotters.matplotlib.plot(S,fig_size=(12,5))\n"
   ]
  },
  {
   "cell_type": "code",
   "execution_count": 66,
   "metadata": {},
   "outputs": [
    {
     "name": "stdout",
     "output_type": "stream",
     "text": [
      "INFO: execution time for solving mip (sec) = 0.25664401054382324\n",
      "ERROR: no solution found\n",
      "no solution found\n"
     ]
    }
   ],
   "source": [
    "# Solve and plot scenario\n",
    "if solvers.mip.solve(S,kind='CBC',msg=1,random_seed=6):\n",
    "    %matplotlib inline\n",
    "    plotters.matplotlib.plot(S,fig_size=(30,10))\n",
    "else:\n",
    "    print('no solution found')\n"
   ]
  },
  {
   "cell_type": "code",
   "execution_count": null,
   "metadata": {},
   "outputs": [],
   "source": [
    "S"
   ]
  },
  {
   "cell_type": "code",
   "execution_count": null,
   "metadata": {},
   "outputs": [],
   "source": []
  },
  {
   "cell_type": "code",
   "execution_count": 50,
   "metadata": {},
   "outputs": [
    {
     "name": "stdout",
     "output_type": "stream",
     "text": [
      "INFO: execution time for solving mip (sec) = 0.024211406707763672\n",
      "INFO: objective = -5.5\n",
      "[(dish_washer, R2, 9, 12), (washing_machine, R1, 9, 11)]\n"
     ]
    },
    {
     "data": {
      "image/png": "[encoded data removed]",
      "text/plain": [
       "<Figure size 1080x360 with 1 Axes>"
      ]
     },
     "metadata": {
      "needs_background": "light"
     },
     "output_type": "display_data"
    }
   ],
   "source": [
    "# Task 'washing machine' has a length of 2 \n",
    "WM = S.Task('washing_machine', length=2, num=1, schedule_cost= -2.5)\n",
    "DW = S.Task('dish_washer', length= 3, num= 1, schedule_cost= -3)\n",
    "\n",
    "# Resources : electricity units ?\n",
    "R1 = S.Resource('R1')\n",
    "R2 = S.Resource('R2')\n",
    "\n",
    "\n",
    "# Define that task T requires resource R \n",
    "WM += R1\n",
    "DW += R2\n",
    "\n",
    "# add the constraints that T needs to get schedule after period 1 but before 5\n",
    "S += WM > beginning_slot, WM < end_slot\n",
    "S += DW > beginning_slot, DW < end_slot\n",
    "\n",
    "solvers.mip.solve(S,msg=1)\n",
    "print(S.solution())\n",
    "plotters.matplotlib.plot(S)"
   ]
  },
  {
   "cell_type": "markdown",
   "metadata": {},
   "source": [
    "```\n",
    "INFO: execution time for solving mip (sec) = 0.015182256698608398\n",
    "INFO: objective = 0.0\n",
    "[(washing_machine, R, 16, 18)]\n",
    "```\n",
    "\n",
    "> The washing machine need to be schedule from 16 to 18"
   ]
  },
  {
   "cell_type": "code",
   "execution_count": null,
   "metadata": {},
   "outputs": [],
   "source": []
  }
 ],
 "metadata": {
  "kernelspec": {
   "display_name": "Python 3",
   "language": "python",
   "name": "python3"
  },
  "language_info": {
   "codemirror_mode": {
    "name": "ipython",
    "version": 3
   },
   "file_extension": ".py",
   "mimetype": "text/x-python",
   "name": "python",
   "nbconvert_exporter": "python",
   "pygments_lexer": "ipython3",
   "version": "3.6.6"
  }
 },
 "nbformat": 4,
 "nbformat_minor": 2
}
