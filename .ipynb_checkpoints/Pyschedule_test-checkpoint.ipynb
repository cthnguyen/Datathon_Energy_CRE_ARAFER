{
 "cells": [
  {
   "cell_type": "code",
   "execution_count": 1,
   "metadata": {},
   "outputs": [],
   "source": [
    "# Import packages\n",
    "from pyschedule import Scenario, solvers, plotters, alt\n",
    "import pandas as pd\n",
    "import numpy as np\n",
    "%matplotlib inline"
   ]
  },
  {
   "cell_type": "code",
   "execution_count": 2,
   "metadata": {},
   "outputs": [
    {
     "data": {
      "text/html": [
       "<div>\n",
       "<style scoped>\n",
       "    .dataframe tbody tr th:only-of-type {\n",
       "        vertical-align: middle;\n",
       "    }\n",
       "\n",
       "    .dataframe tbody tr th {\n",
       "        vertical-align: top;\n",
       "    }\n",
       "\n",
       "    .dataframe thead th {\n",
       "        text-align: right;\n",
       "    }\n",
       "</style>\n",
       "<table border=\"1\" class=\"dataframe\">\n",
       "  <thead>\n",
       "    <tr style=\"text-align: right;\">\n",
       "      <th></th>\n",
       "      <th>heure</th>\n",
       "      <th>2019-03-10 00:00:00</th>\n",
       "      <th>2019-03-11 00:00:00</th>\n",
       "      <th>2019-03-12 00:00:00</th>\n",
       "      <th>2019-03-13 00:00:00</th>\n",
       "      <th>2019-03-14 00:00:00</th>\n",
       "      <th>2019-03-15 00:00:00</th>\n",
       "      <th>2019-03-16 00:00:00</th>\n",
       "    </tr>\n",
       "  </thead>\n",
       "  <tbody>\n",
       "    <tr>\n",
       "      <th>0</th>\n",
       "      <td>0</td>\n",
       "      <td>17.67</td>\n",
       "      <td>23.64</td>\n",
       "      <td>40.98</td>\n",
       "      <td>26.85</td>\n",
       "      <td>28.14</td>\n",
       "      <td>26.71</td>\n",
       "      <td>24.16</td>\n",
       "    </tr>\n",
       "    <tr>\n",
       "      <th>1</th>\n",
       "      <td>1</td>\n",
       "      <td>18.49</td>\n",
       "      <td>22.71</td>\n",
       "      <td>38.97</td>\n",
       "      <td>22.28</td>\n",
       "      <td>26.86</td>\n",
       "      <td>18.89</td>\n",
       "      <td>11.44</td>\n",
       "    </tr>\n",
       "    <tr>\n",
       "      <th>2</th>\n",
       "      <td>2</td>\n",
       "      <td>17.95</td>\n",
       "      <td>24.97</td>\n",
       "      <td>36.91</td>\n",
       "      <td>25.33</td>\n",
       "      <td>25.88</td>\n",
       "      <td>16.56</td>\n",
       "      <td>8.34</td>\n",
       "    </tr>\n",
       "    <tr>\n",
       "      <th>3</th>\n",
       "      <td>3</td>\n",
       "      <td>9.91</td>\n",
       "      <td>19.06</td>\n",
       "      <td>35.00</td>\n",
       "      <td>11.78</td>\n",
       "      <td>24.32</td>\n",
       "      <td>12.12</td>\n",
       "      <td>6.49</td>\n",
       "    </tr>\n",
       "    <tr>\n",
       "      <th>4</th>\n",
       "      <td>4</td>\n",
       "      <td>6.54</td>\n",
       "      <td>20.55</td>\n",
       "      <td>32.92</td>\n",
       "      <td>14.61</td>\n",
       "      <td>23.72</td>\n",
       "      <td>16.68</td>\n",
       "      <td>8.40</td>\n",
       "    </tr>\n",
       "  </tbody>\n",
       "</table>\n",
       "</div>"
      ],
      "text/plain": [
       "   heure  2019-03-10 00:00:00  2019-03-11 00:00:00  2019-03-12 00:00:00  \\\n",
       "0      0                17.67                23.64                40.98   \n",
       "1      1                18.49                22.71                38.97   \n",
       "2      2                17.95                24.97                36.91   \n",
       "3      3                 9.91                19.06                35.00   \n",
       "4      4                 6.54                20.55                32.92   \n",
       "\n",
       "   2019-03-13 00:00:00  2019-03-14 00:00:00  2019-03-15 00:00:00  \\\n",
       "0                26.85                28.14                26.71   \n",
       "1                22.28                26.86                18.89   \n",
       "2                25.33                25.88                16.56   \n",
       "3                11.78                24.32                12.12   \n",
       "4                14.61                23.72                16.68   \n",
       "\n",
       "   2019-03-16 00:00:00  \n",
       "0                24.16  \n",
       "1                11.44  \n",
       "2                 8.34  \n",
       "3                 6.49  \n",
       "4                 8.40  "
      ]
     },
     "execution_count": 2,
     "metadata": {},
     "output_type": "execute_result"
    }
   ],
   "source": [
    "price_spot = pd.read_excel(\"/home/celine/Downloads/prix_spot.xlsx\")\n",
    "price_spot.head()"
   ]
  },
  {
   "cell_type": "markdown",
   "metadata": {},
   "source": [
    "* Scenario:\n",
    "    * ```schedule_cost``` : provide some positive or negative reward if a task is scheduled\n",
    "\n",
    "* Resource: \n",
    "    * ```cost_per_period``` :Using a resource for some periods might imply additional resource cost\n",
    "    \n",
    "* Tasks: \n",
    "    * \n",
    "    ``` # create 5 tasks of the same type with length 1 and delay cost 1\n",
    "    T = S.Tasks('T',num=5,length=1,delay_cost=1) ```"
   ]
  },
  {
   "cell_type": "code",
   "execution_count": 18,
   "metadata": {},
   "outputs": [],
   "source": [
    "# Generate random data for individuals behavior\n",
    "\n",
    "individuals = list((range(10)))\n",
    "forecast_period = 2 # number of days forecasted with the given tasks\n",
    "days = list(range(forecast_period))\n",
    "\n",
    "list_tasks= ['washing_machine', 'dish_washer']\n",
    "len_tasks= [2, 3]\n",
    "\n",
    "# Time slot for off-peak hours\n",
    "beginning_slot = 9\n",
    "end_slot = 18\n",
    "\n",
    "# Numbers of tasks asked for the individual i\n",
    "tasks = np.random.randint(2, size= len(individuals))\n",
    "number_tasks = {}\n",
    "for i in individuals: \n",
    "    number_tasks[str(i)] = tasks[i]"
   ]
  },
  {
   "cell_type": "code",
   "execution_count": 28,
   "metadata": {},
   "outputs": [],
   "source": [
    "S = Scenario('individual', horizon=forecast_period*24)\n",
    "\n",
    "# Create individuals as resources indexed by name\n",
    "name_individuals = {name: S.Resource(str(name)) for name in individuals}\n",
    "\n",
    "# Create tasks : number of tasks for each day for each individual\n",
    "# Could add the name of the task with list_tasks\n",
    "tasks = {(name_task, day) : S.Tasks('%s_%s'%(str(name_task), str(day))) \n",
    "                                         for name_task in list_tasks\n",
    "                                         for day in number_tasks if day in days\n",
    "                                         }"
   ]
  },
  {
   "cell_type": "code",
   "execution_count": 32,
   "metadata": {},
   "outputs": [],
   "source": [
    "# Distribute each tasks in the days \n",
    "for name_task, day in tasks:\n",
    "    for i in [beginning_slot, end_slot, ]\n",
    "    S += tasks[name_task, day] >= day \n",
    "#     S += tasks[day, t] >= beginning_slot + day, tasks[day, t] <= end_slot + day\n",
    "    # Group the tasks (washing_machine, dish_washer) as there are no order to do it\n",
    "    # !! Not true for washing_machine and dryer\n",
    "    tasks[name_task, day].group = day"
   ]
  },
  {
   "cell_type": "code",
   "execution_count": 30,
   "metadata": {},
   "outputs": [],
   "source": [
    "# No restrictions on resources : any task can be done with any resource\n",
    "for name_task, day in tasks: \n",
    "    tasks[name_task, day] += alt(S.resources())"
   ]
  },
  {
   "cell_type": "code",
   "execution_count": 31,
   "metadata": {},
   "outputs": [
    {
     "data": {
      "text/plain": [
       "<bound method Scenario.tasks of ###############################################\n",
       "\n",
       "SCENARIO: individual / horizon: 48\n",
       "\n",
       "OBJECTIVE: None\n",
       "\n",
       "RESOURCES:\n",
       "0\n",
       "1\n",
       "2\n",
       "3\n",
       "4\n",
       "5\n",
       "6\n",
       "7\n",
       "8\n",
       "9\n",
       "\n",
       "TASKS:\n",
       "\n",
       "JOINT RESOURCES:\n",
       "\n",
       "###############################################>"
      ]
     },
     "execution_count": 31,
     "metadata": {},
     "output_type": "execute_result"
    }
   ],
   "source": [
    "S.tasks"
   ]
  },
  {
   "cell_type": "code",
   "execution_count": 26,
   "metadata": {},
   "outputs": [
    {
     "ename": "ValueError",
     "evalue": "min() arg is an empty sequence",
     "output_type": "error",
     "traceback": [
      "\u001b[0;31m---------------------------------------------------------------------------\u001b[0m",
      "\u001b[0;31mValueError\u001b[0m                                Traceback (most recent call last)",
      "\u001b[0;32m<ipython-input-26-709558051951>\u001b[0m in \u001b[0;36m<module>\u001b[0;34m\u001b[0m\n\u001b[1;32m      1\u001b[0m \u001b[0;31m# Solve and plot scenario\u001b[0m\u001b[0;34m\u001b[0m\u001b[0;34m\u001b[0m\u001b[0m\n\u001b[0;32m----> 2\u001b[0;31m \u001b[0;32mif\u001b[0m \u001b[0msolvers\u001b[0m\u001b[0;34m.\u001b[0m\u001b[0mmip\u001b[0m\u001b[0;34m.\u001b[0m\u001b[0msolve\u001b[0m\u001b[0;34m(\u001b[0m\u001b[0mS\u001b[0m\u001b[0;34m,\u001b[0m\u001b[0mkind\u001b[0m\u001b[0;34m=\u001b[0m\u001b[0;34m'CBC'\u001b[0m\u001b[0;34m,\u001b[0m\u001b[0mmsg\u001b[0m\u001b[0;34m=\u001b[0m\u001b[0;36m1\u001b[0m\u001b[0;34m,\u001b[0m\u001b[0mrandom_seed\u001b[0m\u001b[0;34m=\u001b[0m\u001b[0;36m6\u001b[0m\u001b[0;34m)\u001b[0m\u001b[0;34m:\u001b[0m\u001b[0;34m\u001b[0m\u001b[0m\n\u001b[0m\u001b[1;32m      3\u001b[0m     \u001b[0mget_ipython\u001b[0m\u001b[0;34m(\u001b[0m\u001b[0;34m)\u001b[0m\u001b[0;34m.\u001b[0m\u001b[0mrun_line_magic\u001b[0m\u001b[0;34m(\u001b[0m\u001b[0;34m'matplotlib'\u001b[0m\u001b[0;34m,\u001b[0m \u001b[0;34m'inline'\u001b[0m\u001b[0;34m)\u001b[0m\u001b[0;34m\u001b[0m\u001b[0m\n\u001b[1;32m      4\u001b[0m     \u001b[0mplotters\u001b[0m\u001b[0;34m.\u001b[0m\u001b[0mmatplotlib\u001b[0m\u001b[0;34m.\u001b[0m\u001b[0mplot\u001b[0m\u001b[0;34m(\u001b[0m\u001b[0mS\u001b[0m\u001b[0;34m,\u001b[0m\u001b[0mfig_size\u001b[0m\u001b[0;34m=\u001b[0m\u001b[0;34m(\u001b[0m\u001b[0;36m30\u001b[0m\u001b[0;34m,\u001b[0m\u001b[0;36m10\u001b[0m\u001b[0;34m)\u001b[0m\u001b[0;34m)\u001b[0m\u001b[0;34m\u001b[0m\u001b[0m\n\u001b[1;32m      5\u001b[0m \u001b[0;32melse\u001b[0m\u001b[0;34m:\u001b[0m\u001b[0;34m\u001b[0m\u001b[0m\n",
      "\u001b[0;32m~/anaconda3/lib/python3.6/site-packages/pyschedule/solvers/mip.py\u001b[0m in \u001b[0;36msolve\u001b[0;34m(scenario, kind, time_limit, random_seed, ratio_gap, msg)\u001b[0m\n\u001b[1;32m     74\u001b[0m         \u001b[0mscenario\u001b[0m\u001b[0;34m.\u001b[0m\u001b[0mcheck\u001b[0m\u001b[0;34m(\u001b[0m\u001b[0;34m)\u001b[0m\u001b[0;34m\u001b[0m\u001b[0m\n\u001b[1;32m     75\u001b[0m         \u001b[0mmip\u001b[0m \u001b[0;34m=\u001b[0m \u001b[0mMIP\u001b[0m\u001b[0;34m(\u001b[0m\u001b[0mstr\u001b[0m\u001b[0;34m(\u001b[0m\u001b[0mscenario\u001b[0m\u001b[0;34m)\u001b[0m\u001b[0;34m)\u001b[0m\u001b[0;34m\u001b[0m\u001b[0m\n\u001b[0;32m---> 76\u001b[0;31m         \u001b[0;32mreturn\u001b[0m \u001b[0mDiscreteMIP\u001b[0m\u001b[0;34m(\u001b[0m\u001b[0mmip\u001b[0m\u001b[0;34m)\u001b[0m\u001b[0;34m.\u001b[0m\u001b[0msolve\u001b[0m\u001b[0;34m(\u001b[0m\u001b[0mscenario\u001b[0m\u001b[0;34m,\u001b[0m \u001b[0mkind\u001b[0m\u001b[0;34m=\u001b[0m\u001b[0mkind\u001b[0m\u001b[0;34m,\u001b[0m \u001b[0mtime_limit\u001b[0m\u001b[0;34m=\u001b[0m\u001b[0mtime_limit\u001b[0m\u001b[0;34m,\u001b[0m \u001b[0mrandom_seed\u001b[0m\u001b[0;34m=\u001b[0m\u001b[0mrandom_seed\u001b[0m\u001b[0;34m,\u001b[0m \u001b[0mratio_gap\u001b[0m\u001b[0;34m=\u001b[0m\u001b[0mratio_gap\u001b[0m\u001b[0;34m,\u001b[0m \u001b[0mmsg\u001b[0m\u001b[0;34m=\u001b[0m\u001b[0mmsg\u001b[0m\u001b[0;34m)\u001b[0m\u001b[0;34m\u001b[0m\u001b[0m\n\u001b[0m\u001b[1;32m     77\u001b[0m \u001b[0;34m\u001b[0m\u001b[0m\n\u001b[1;32m     78\u001b[0m \u001b[0;34m\u001b[0m\u001b[0m\n",
      "\u001b[0;32m~/anaconda3/lib/python3.6/site-packages/pyschedule/solvers/mip.py\u001b[0m in \u001b[0;36msolve\u001b[0;34m(self, scenario, kind, time_limit, random_seed, ratio_gap, msg)\u001b[0m\n\u001b[1;32m    604\u001b[0m                         \u001b[0;32mreturn\u001b[0m \u001b[0;36m0\u001b[0m\u001b[0;34m\u001b[0m\u001b[0m\n\u001b[1;32m    605\u001b[0m                 \u001b[0mself\u001b[0m\u001b[0;34m.\u001b[0m\u001b[0mhorizon\u001b[0m \u001b[0;34m=\u001b[0m \u001b[0mself\u001b[0m\u001b[0;34m.\u001b[0m\u001b[0mscenario\u001b[0m\u001b[0;34m.\u001b[0m\u001b[0mhorizon\u001b[0m\u001b[0;34m\u001b[0m\u001b[0m\n\u001b[0;32m--> 606\u001b[0;31m                 \u001b[0mself\u001b[0m\u001b[0;34m.\u001b[0m\u001b[0mbuild_mip_from_scenario\u001b[0m\u001b[0;34m(\u001b[0m\u001b[0mmsg\u001b[0m\u001b[0;34m=\u001b[0m\u001b[0mmsg\u001b[0m\u001b[0;34m)\u001b[0m\u001b[0;34m\u001b[0m\u001b[0m\n\u001b[0m\u001b[1;32m    607\u001b[0m \u001b[0;34m\u001b[0m\u001b[0m\n\u001b[1;32m    608\u001b[0m                 \u001b[0;31m# if time_limit :\u001b[0m\u001b[0;34m\u001b[0m\u001b[0;34m\u001b[0m\u001b[0m\n",
      "\u001b[0;32m~/anaconda3/lib/python3.6/site-packages/pyschedule/solvers/mip.py\u001b[0m in \u001b[0;36mbuild_mip_from_scenario\u001b[0;34m(self, msg)\u001b[0m\n\u001b[1;32m    246\u001b[0m                                 \u001b[0mcons\u001b[0m\u001b[0;34m.\u001b[0m\u001b[0mappend\u001b[0m\u001b[0;34m(\u001b[0m\u001b[0mmip\u001b[0m\u001b[0;34m.\u001b[0m\u001b[0mcon\u001b[0m\u001b[0;34m(\u001b[0m\u001b[0maffine\u001b[0m\u001b[0;34m,\u001b[0m \u001b[0msense\u001b[0m\u001b[0;34m=\u001b[0m\u001b[0;34m-\u001b[0m\u001b[0;36m1\u001b[0m\u001b[0;34m,\u001b[0m \u001b[0mrhs\u001b[0m\u001b[0;34m=\u001b[0m\u001b[0mresource_size\u001b[0m\u001b[0;34m)\u001b[0m\u001b[0;34m)\u001b[0m\u001b[0;34m\u001b[0m\u001b[0m\n\u001b[1;32m    247\u001b[0m                         \u001b[0;31m# case of task of length zero, then can block tasks of length > 1\u001b[0m\u001b[0;34m\u001b[0m\u001b[0;34m\u001b[0m\u001b[0m\n\u001b[0;32m--> 248\u001b[0;31m                         \u001b[0;32mif\u001b[0m \u001b[0mmin\u001b[0m\u001b[0;34m(\u001b[0m \u001b[0mT\u001b[0m\u001b[0;34m.\u001b[0m\u001b[0mlength\u001b[0m \u001b[0;32mfor\u001b[0m \u001b[0mT\u001b[0m \u001b[0;32min\u001b[0m \u001b[0mS\u001b[0m\u001b[0;34m.\u001b[0m\u001b[0mtasks\u001b[0m\u001b[0;34m(\u001b[0m\u001b[0;34m)\u001b[0m \u001b[0;34m)\u001b[0m \u001b[0;34m==\u001b[0m \u001b[0;36m0\u001b[0m\u001b[0;34m:\u001b[0m\u001b[0;34m\u001b[0m\u001b[0m\n\u001b[0m\u001b[1;32m    249\u001b[0m                                 \u001b[0;32mfor\u001b[0m \u001b[0mt\u001b[0m \u001b[0;32min\u001b[0m \u001b[0mrange\u001b[0m\u001b[0;34m(\u001b[0m\u001b[0;36m1\u001b[0m\u001b[0;34m,\u001b[0m\u001b[0mself\u001b[0m\u001b[0;34m.\u001b[0m\u001b[0mhorizon\u001b[0m\u001b[0;34m)\u001b[0m\u001b[0;34m:\u001b[0m\u001b[0;34m\u001b[0m\u001b[0m\n\u001b[1;32m    250\u001b[0m \t\t\t\t\taffine = [ (x[T,R_,t_], coeffs[T,R])\n",
      "\u001b[0;31mValueError\u001b[0m: min() arg is an empty sequence"
     ]
    }
   ],
   "source": [
    "# Solve and plot scenario\n",
    "if solvers.mip.solve(S,kind='CBC',msg=1,random_seed=6):\n",
    "    %matplotlib inline\n",
    "    plotters.matplotlib.plot(S,fig_size=(30,10))\n",
    "else:\n",
    "    print('no solution found')\n"
   ]
  },
  {
   "cell_type": "code",
   "execution_count": null,
   "metadata": {},
   "outputs": [],
   "source": [
    "S"
   ]
  },
  {
   "cell_type": "code",
   "execution_count": null,
   "metadata": {},
   "outputs": [],
   "source": []
  },
  {
   "cell_type": "code",
   "execution_count": null,
   "metadata": {},
   "outputs": [],
   "source": [
    "# Task 'washing machine' has a length of 2 \n",
    "WM = S.Task('washing_machine', length=2, num=1, schedule_cost= -2.5)\n",
    "DW = S.Task('dish_washer', length= 3, num= 1, schedule_cost= -3)\n",
    "\n",
    "# Resources : electricity units ?\n",
    "R1 = S.Resource('R1')\n",
    "R2 = S.Resource('R2')\n",
    "\n",
    "\n",
    "# Define that task T requires resource R \n",
    "WM += R1\n",
    "DW += R2\n",
    "\n",
    "# add the constraints that T needs to get schedule after period 1 but before 5\n",
    "S += WM > beginning_slot, WM < end_slot\n",
    "S += DW > beginning_slot, DW < end_slot\n",
    "\n",
    "solvers.mip.solve(S,msg=1)\n",
    "print(S.solution())\n",
    "plotters.matplotlib.plot(S)"
   ]
  },
  {
   "cell_type": "markdown",
   "metadata": {},
   "source": [
    "```\n",
    "INFO: execution time for solving mip (sec) = 0.015182256698608398\n",
    "INFO: objective = 0.0\n",
    "[(washing_machine, R, 16, 18)]\n",
    "```\n",
    "\n",
    "> The washing machine need to be schedule from 16 to 18"
   ]
  },
  {
   "cell_type": "code",
   "execution_count": null,
   "metadata": {},
   "outputs": [],
   "source": []
  }
 ],
 "metadata": {
  "kernelspec": {
   "display_name": "Python 3",
   "language": "python",
   "name": "python3"
  },
  "language_info": {
   "codemirror_mode": {
    "name": "ipython",
    "version": 3
   },
   "file_extension": ".py",
   "mimetype": "text/x-python",
   "name": "python",
   "nbconvert_exporter": "python",
   "pygments_lexer": "ipython3",
   "version": "3.6.6"
  }
 },
 "nbformat": 4,
 "nbformat_minor": 2
}
